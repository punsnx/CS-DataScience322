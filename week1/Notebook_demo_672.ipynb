{
 "cells": [
  {
   "cell_type": "code",
   "execution_count": 2,
   "id": "d2045028-ca33-45ac-a131-b1a8bc7d295d",
   "metadata": {},
   "outputs": [
    {
     "name": "stdout",
     "output_type": "stream",
     "text": [
      "Hello World\n"
     ]
    }
   ],
   "source": [
    "print(\"Hello World\")"
   ]
  },
  {
   "cell_type": "code",
   "execution_count": 3,
   "id": "d7c0a5b1-c3e3-4cc8-bd89-4b3f6326dbfc",
   "metadata": {},
   "outputs": [
    {
     "data": {
      "text/plain": [
       "12"
      ]
     },
     "execution_count": 3,
     "metadata": {},
     "output_type": "execute_result"
    }
   ],
   "source": [
    "5+7"
   ]
  },
  {
   "cell_type": "code",
   "execution_count": 11,
   "id": "124d3efb-d2bb-4074-8b7d-3215f282245c",
   "metadata": {},
   "outputs": [],
   "source": [
    "a = 5"
   ]
  },
  {
   "cell_type": "code",
   "execution_count": 12,
   "id": "8506173e-4211-42c2-8123-6b6066a51b00",
   "metadata": {},
   "outputs": [
    {
     "data": {
      "text/plain": [
       "5"
      ]
     },
     "execution_count": 12,
     "metadata": {},
     "output_type": "execute_result"
    }
   ],
   "source": [
    "a"
   ]
  },
  {
   "cell_type": "code",
   "execution_count": 13,
   "id": "20d2c714-4d93-4dcb-91aa-2025d8068b8c",
   "metadata": {},
   "outputs": [
    {
     "name": "stdout",
     "output_type": "stream",
     "text": [
      "not good\n"
     ]
    }
   ],
   "source": [
    "if a >= 20:\n",
    "    print(\"good\")\n",
    "else:\n",
    "    print(\"not good\")"
   ]
  },
  {
   "cell_type": "markdown",
   "id": "d97e96d7-f27a-4b56-9d1b-06b77acce0b1",
   "metadata": {},
   "source": [
    "# HELLO"
   ]
  },
  {
   "cell_type": "markdown",
   "id": "90d7200d-07de-49bf-bc41-20f2e1b27a11",
   "metadata": {},
   "source": [
    "## Level 2\n",
    "\n",
    "This is *jupyter* **notebook** for python 3.13 in data science class."
   ]
  },
  {
   "cell_type": "markdown",
   "id": "a4ef850b-b2e6-4d98-967b-43b1a99959b0",
   "metadata": {},
   "source": [
    "Bullet list\n",
    "* item 1\n",
    "* item 2\n",
    "  "
   ]
  },
  {
   "cell_type": "markdown",
   "id": "53b928d9-378e-4c8b-920a-347054a74bf5",
   "metadata": {},
   "source": [
    "number list\n",
    "1. item 1\n",
    "2. item 2"
   ]
  },
  {
   "cell_type": "markdown",
   "id": "3c618ae5-3771-4c53-952d-b41b07ddf5cf",
   "metadata": {},
   "source": [
    "You can start Jupyter with command `jupyter  notebook with`"
   ]
  },
  {
   "cell_type": "raw",
   "id": "b9b89c35-7645-4253-857a-364775bb569f",
   "metadata": {},
   "source": [
    "# hello this is **raw**"
   ]
  },
  {
   "cell_type": "code",
   "execution_count": null,
   "id": "79c47c26-b087-43de-a15a-8cc53d27edad",
   "metadata": {},
   "outputs": [],
   "source": []
  }
 ],
 "metadata": {
  "kernelspec": {
   "display_name": "Python 3 (ipykernel)",
   "language": "python",
   "name": "python3"
  },
  "language_info": {
   "codemirror_mode": {
    "name": "ipython",
    "version": 3
   },
   "file_extension": ".py",
   "mimetype": "text/x-python",
   "name": "python",
   "nbconvert_exporter": "python",
   "pygments_lexer": "ipython3",
   "version": "3.12.7"
  }
 },
 "nbformat": 4,
 "nbformat_minor": 5
}
