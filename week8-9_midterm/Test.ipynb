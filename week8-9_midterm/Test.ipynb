{
 "cells": [
  {
   "cell_type": "code",
   "execution_count": 1,
   "id": "453bdb19-35ca-4534-a539-a192a4f83450",
   "metadata": {},
   "outputs": [],
   "source": [
    "import pandas as pd\n",
    "import numpy as np"
   ]
  },
  {
   "cell_type": "code",
   "execution_count": 2,
   "id": "4e387bb5-c30e-4941-a17e-3b1adc6b6a94",
   "metadata": {},
   "outputs": [],
   "source": [
    "meet = pd.read_csv('meets.csv')\n",
    "oplift = pd.read_csv('openpowerlifting.csv')"
   ]
  },
  {
   "cell_type": "code",
   "execution_count": 10,
   "id": "1d031b31",
   "metadata": {},
   "outputs": [
    {
     "name": "stdout",
     "output_type": "stream",
     "text": [
      "<class 'pandas.core.frame.DataFrame'>\n",
      "RangeIndex: 386414 entries, 0 to 386413\n",
      "Data columns (total 17 columns):\n",
      " #   Column          Non-Null Count   Dtype  \n",
      "---  ------          --------------   -----  \n",
      " 0   MeetID          386414 non-null  int64  \n",
      " 1   Name            386414 non-null  object \n",
      " 2   Sex             386414 non-null  object \n",
      " 3   Equipment       386414 non-null  object \n",
      " 4   Age             147147 non-null  float64\n",
      " 5   Division        370571 non-null  object \n",
      " 6   BodyweightKg    384012 non-null  float64\n",
      " 7   WeightClassKg   382602 non-null  object \n",
      " 8   Squat4Kg        1243 non-null    float64\n",
      " 9   BestSquatKg     298071 non-null  float64\n",
      " 10  Bench4Kg        1962 non-null    float64\n",
      " 11  BestBenchKg     356364 non-null  float64\n",
      " 12  Deadlift4Kg     2800 non-null    float64\n",
      " 13  BestDeadliftKg  317847 non-null  float64\n",
      " 14  TotalKg         363237 non-null  float64\n",
      " 15  Place           385322 non-null  object \n",
      " 16  Wilks           362194 non-null  float64\n",
      "dtypes: float64(10), int64(1), object(6)\n",
      "memory usage: 50.1+ MB\n"
     ]
    }
   ],
   "source": [
    "oplift.info()"
   ]
  },
  {
   "cell_type": "code",
   "execution_count": null,
   "id": "4a4b7d7f",
   "metadata": {},
   "outputs": [],
   "source": []
  }
 ],
 "metadata": {
  "kernelspec": {
   "display_name": "ds",
   "language": "python",
   "name": "python3"
  },
  "language_info": {
   "codemirror_mode": {
    "name": "ipython",
    "version": 3
   },
   "file_extension": ".py",
   "mimetype": "text/x-python",
   "name": "python",
   "nbconvert_exporter": "python",
   "pygments_lexer": "ipython3",
   "version": "3.12.7"
  }
 },
 "nbformat": 4,
 "nbformat_minor": 5
}
